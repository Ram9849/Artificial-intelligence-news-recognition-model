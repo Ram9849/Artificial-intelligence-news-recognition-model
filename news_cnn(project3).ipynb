{
  "nbformat": 4,
  "nbformat_minor": 0,
  "metadata": {
    "colab": {
      "name": "news cnn(project3).ipynb",
      "private_outputs": true,
      "provenance": []
    },
    "kernelspec": {
      "name": "python3",
      "display_name": "Python 3"
    },
    "language_info": {
      "name": "python"
    }
  },
  "cells": [
    {
      "cell_type": "code",
      "metadata": {
        "id": "_TTY8BKrqhvJ"
      },
      "source": [
        "pip install nltk"
      ],
      "execution_count": null,
      "outputs": []
    },
    {
      "cell_type": "code",
      "metadata": {
        "id": "1SLojITIvKkj"
      },
      "source": [
        "import nltk"
      ],
      "execution_count": null,
      "outputs": []
    },
    {
      "cell_type": "code",
      "metadata": {
        "id": "w7E2JdMGvOQq"
      },
      "source": [
        "nltk.download('punkt')"
      ],
      "execution_count": null,
      "outputs": []
    },
    {
      "cell_type": "code",
      "metadata": {
        "id": "iN0sK9IDvTGL"
      },
      "source": [
        "import pandas as pd"
      ],
      "execution_count": null,
      "outputs": []
    },
    {
      "cell_type": "code",
      "metadata": {
        "id": "hw8Ums7_vsms"
      },
      "source": [
        "fake=pd.read_csv('/content/sample_data/Fake-210604-161841.csv')\n",
        "genuine=pd.read_csv('/content/sample_data/True-210604-161650.csv')\n"
      ],
      "execution_count": null,
      "outputs": []
    },
    {
      "cell_type": "code",
      "metadata": {
        "id": "fEipTaeqv61A"
      },
      "source": [
        "display(fake.info())\n",
        "display(genuine.info())\n"
      ],
      "execution_count": null,
      "outputs": []
    },
    {
      "cell_type": "code",
      "metadata": {
        "id": "O6IB7yihwW3H"
      },
      "source": [
        "display(fake.head())\n",
        "display(genuine.head())\n"
      ],
      "execution_count": null,
      "outputs": []
    },
    {
      "cell_type": "code",
      "metadata": {
        "id": "PeN7PRSQwhZC"
      },
      "source": [
        "display(fake.subject.value_counts())\n",
        "print('\\n')\n",
        "display(genuine.subject.value_counts())\n"
      ],
      "execution_count": null,
      "outputs": []
    },
    {
      "cell_type": "code",
      "metadata": {
        "id": "flVfd3low5--"
      },
      "source": [
        "fake['target']=0\n",
        "genuine['target']=1\n"
      ],
      "execution_count": null,
      "outputs": []
    },
    {
      "cell_type": "code",
      "metadata": {
        "id": "Aq3YnEltxEfs"
      },
      "source": [
        "display(fake.head())\n"
      ],
      "execution_count": null,
      "outputs": []
    },
    {
      "cell_type": "code",
      "metadata": {
        "id": "RV_AEiRsxJIC"
      },
      "source": [
        "display(genuine.head())\n"
      ],
      "execution_count": null,
      "outputs": []
    },
    {
      "cell_type": "code",
      "metadata": {
        "id": "RIs8soEHxNs3"
      },
      "source": [
        "data=pd.concat([fake, genuine], axis=0)\n"
      ],
      "execution_count": null,
      "outputs": []
    },
    {
      "cell_type": "code",
      "metadata": {
        "id": "4QQtoJhIxsUR"
      },
      "source": [
        "data=data.reset_index(drop=True)\n"
      ],
      "execution_count": null,
      "outputs": []
    },
    {
      "cell_type": "code",
      "metadata": {
        "id": "spESff6Bx0tY"
      },
      "source": [
        "data=data.drop(['subject','date','title'], axis=1)"
      ],
      "execution_count": null,
      "outputs": []
    },
    {
      "cell_type": "code",
      "metadata": {
        "id": "Y9jaLlY1yowr"
      },
      "source": [
        "print(data.columns)\n",
        "print(data)"
      ],
      "execution_count": null,
      "outputs": []
    },
    {
      "cell_type": "code",
      "metadata": {
        "id": "HqU4SFwRy4Aa"
      },
      "source": [
        "#TOKENIZATION\n",
        "\n",
        "from nltk.tokenize import word_tokenize\n",
        "data['text']=data['text'].apply(word_tokenize)\n"
      ],
      "execution_count": null,
      "outputs": []
    },
    {
      "cell_type": "code",
      "metadata": {
        "id": "O2GDiEb3z2xs"
      },
      "source": [
        "print(data.head(10))"
      ],
      "execution_count": null,
      "outputs": []
    },
    {
      "cell_type": "code",
      "metadata": {
        "id": "VBLK2Lm2z9wz"
      },
      "source": [
        "#STEMMING\n",
        "\n",
        "from nltk.stem.snowball import  SnowballStemmer\n",
        "porter=SnowballStemmer(\"english\", ignore_stopwords=False)\n"
      ],
      "execution_count": null,
      "outputs": []
    },
    {
      "cell_type": "code",
      "metadata": {
        "id": "O5TVs-aI0Wdn"
      },
      "source": [
        "def stem_it(text):\n",
        "  return [porter.stem(word) for word in text]"
      ],
      "execution_count": null,
      "outputs": []
    },
    {
      "cell_type": "code",
      "metadata": {
        "id": "Zd19g-4f0kAQ"
      },
      "source": [
        "data['text']=data['text'].apply(stem_it)"
      ],
      "execution_count": null,
      "outputs": []
    },
    {
      "cell_type": "code",
      "metadata": {
        "id": "vIePs5g91sTZ"
      },
      "source": [
        "print(data.head(10))"
      ],
      "execution_count": null,
      "outputs": []
    },
    {
      "cell_type": "code",
      "metadata": {
        "id": "aPOwrux4lQBl"
      },
      "source": [
        "import nltk\n",
        "from nltk.corpus import stopwords\n",
        "nltk.download('stopwords')\n",
        "print(stopwords.words('english'))"
      ],
      "execution_count": null,
      "outputs": []
    },
    {
      "cell_type": "code",
      "metadata": {
        "id": "-WSpiP5T2YVZ"
      },
      "source": [
        "#STOPWARD REMOVAL \n",
        "\n",
        "def stop_it(t):\n",
        "  dt=[word for word in t if len(word)>2]\n",
        "  return dt"
      ],
      "execution_count": null,
      "outputs": []
    },
    {
      "cell_type": "code",
      "metadata": {
        "id": "JdvO6UDa22lC"
      },
      "source": [
        "data['text']=data['text'].apply(stop_it)\n"
      ],
      "execution_count": null,
      "outputs": []
    },
    {
      "cell_type": "code",
      "metadata": {
        "id": "d087gVZe3A3c"
      },
      "source": [
        "print(data['text'].head(10))"
      ],
      "execution_count": null,
      "outputs": []
    },
    {
      "cell_type": "code",
      "metadata": {
        "id": "JxShJt0C3L5G"
      },
      "source": [
        "#SPLITTING OF DATA\n",
        "\n",
        "from sklearn.model_selection import train_test_split\n",
        "X_train, X_test, y_train, y_test=train_test_split(data['text'], data['target'], test_size=0.25)\n",
        "display(X_train.head())\n",
        "print('\\n')\n",
        "display(y_train.head())"
      ],
      "execution_count": null,
      "outputs": []
    },
    {
      "cell_type": "code",
      "metadata": {
        "id": "CsHIHvOz39w_"
      },
      "source": [
        "#VECTORIZATION\n",
        "\n",
        "from sklearn.feature_extraction.text import TfidfVectorizer\n",
        "from sklearn.feature_extraction.text import TfidfTransformer\n",
        "my_tfidf = TfidfVectorizer( max_df=0.7, min_df=5)\n",
        "\n",
        "\n",
        "tfidf_train = my_tfidf.fit_transform(X_train)\n",
        "tfidf_test = my_tfidf.transform(X_test)"
      ],
      "execution_count": null,
      "outputs": []
    },
    {
      "cell_type": "code",
      "metadata": {
        "id": "C8k_CTPJ43Of"
      },
      "source": [
        "print(tfidf_train)"
      ],
      "execution_count": null,
      "outputs": []
    },
    {
      "cell_type": "code",
      "metadata": {
        "id": "W8Uzj65l7C7b"
      },
      "source": [
        "\n",
        "#LOGIC REGRESSION\n",
        "from sklearn.linear_model import LogisticRegression\n",
        "from sklearn.metrics import accuracy_score\n"
      ],
      "execution_count": null,
      "outputs": []
    },
    {
      "cell_type": "code",
      "metadata": {
        "id": "w8sRJm6u7X2m"
      },
      "source": [
        "model_1=LogisticRegression(max_iter=900)\n",
        "model_1.fit(tfidf_train, y_train)\n",
        "pred_1=model_1.predict(tfidf_test)\n",
        "cr1=accuracy_score(y_test,pred_1)\n",
        "print(cr1*100)\n"
      ],
      "execution_count": null,
      "outputs": []
    },
    {
      "cell_type": "markdown",
      "metadata": {
        "id": "x9uDmpGL740f"
      },
      "source": [
        ""
      ]
    },
    {
      "cell_type": "code",
      "metadata": {
        "id": "---D9Mzt75gO"
      },
      "source": [
        "#PASSIVE AGGRESSIVE CLASSIFIER\n",
        "\n",
        "from sklearn.linear_model import PassiveAggressiveClassifier\n",
        "\n",
        "model=PassiveAggressiveClassifier(max_iter=50)\n",
        "model.fit(tfidf_train, y_train)\n"
      ],
      "execution_count": null,
      "outputs": []
    },
    {
      "cell_type": "code",
      "metadata": {
        "id": "P79WQ13G8TqU"
      },
      "source": [
        "y_pred=model.predict(tfidf_test)\n",
        "accscore=accuracy_score(y_test, y_pred)\n",
        "print('The accuracy of prediction is ',accscore*100)"
      ],
      "execution_count": null,
      "outputs": []
    }
  ]
}